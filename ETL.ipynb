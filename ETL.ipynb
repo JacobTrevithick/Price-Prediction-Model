{
 "cells": [
  {
   "cell_type": "code",
   "execution_count": null,
   "metadata": {},
   "outputs": [],
   "source": [
    "import requests\n",
    "api_key = \"<api key>\"\n",
    "\n",
    "url = f\"https://min-api.cryptocompare.com/data/v2/histohour?fsym=BTC&tsym=USD&limit=2000&toTs=1635876000&api_key={api_key}\"\n",
    "r = requests.get(url)\n",
    "data = r.json()\n"
   ]
  },
  {
   "cell_type": "code",
   "execution_count": 13,
   "metadata": {},
   "outputs": [],
   "source": [
    "import pandas as pd\n",
    "from pprint import pprint"
   ]
  },
  {
   "cell_type": "code",
   "execution_count": 23,
   "metadata": {},
   "outputs": [
    {
     "data": {
      "text/html": [
       "<div>\n",
       "<style scoped>\n",
       "    .dataframe tbody tr th:only-of-type {\n",
       "        vertical-align: middle;\n",
       "    }\n",
       "\n",
       "    .dataframe tbody tr th {\n",
       "        vertical-align: top;\n",
       "    }\n",
       "\n",
       "    .dataframe thead th {\n",
       "        text-align: right;\n",
       "    }\n",
       "</style>\n",
       "<table border=\"1\" class=\"dataframe\">\n",
       "  <thead>\n",
       "    <tr style=\"text-align: right;\">\n",
       "      <th></th>\n",
       "      <th>time</th>\n",
       "      <th>high</th>\n",
       "      <th>low</th>\n",
       "      <th>open</th>\n",
       "      <th>volumefrom</th>\n",
       "      <th>volumeto</th>\n",
       "      <th>close</th>\n",
       "      <th>conversionType</th>\n",
       "      <th>conversionSymbol</th>\n",
       "    </tr>\n",
       "  </thead>\n",
       "  <tbody>\n",
       "    <tr>\n",
       "      <th>0</th>\n",
       "      <td>1628676000</td>\n",
       "      <td>46387.36</td>\n",
       "      <td>45934.10</td>\n",
       "      <td>46116.65</td>\n",
       "      <td>1573.37</td>\n",
       "      <td>72581692.88</td>\n",
       "      <td>46083.67</td>\n",
       "      <td>direct</td>\n",
       "      <td></td>\n",
       "    </tr>\n",
       "    <tr>\n",
       "      <th>1</th>\n",
       "      <td>1628679600</td>\n",
       "      <td>46255.74</td>\n",
       "      <td>45884.15</td>\n",
       "      <td>46083.67</td>\n",
       "      <td>1352.98</td>\n",
       "      <td>62344877.74</td>\n",
       "      <td>45946.07</td>\n",
       "      <td>direct</td>\n",
       "      <td></td>\n",
       "    </tr>\n",
       "    <tr>\n",
       "      <th>2</th>\n",
       "      <td>1628683200</td>\n",
       "      <td>46146.13</td>\n",
       "      <td>45859.97</td>\n",
       "      <td>45946.07</td>\n",
       "      <td>1165.86</td>\n",
       "      <td>53609205.63</td>\n",
       "      <td>45995.30</td>\n",
       "      <td>direct</td>\n",
       "      <td></td>\n",
       "    </tr>\n",
       "    <tr>\n",
       "      <th>3</th>\n",
       "      <td>1628686800</td>\n",
       "      <td>46503.80</td>\n",
       "      <td>45931.56</td>\n",
       "      <td>45995.30</td>\n",
       "      <td>1618.98</td>\n",
       "      <td>74938484.77</td>\n",
       "      <td>46293.28</td>\n",
       "      <td>direct</td>\n",
       "      <td></td>\n",
       "    </tr>\n",
       "    <tr>\n",
       "      <th>4</th>\n",
       "      <td>1628690400</td>\n",
       "      <td>46676.14</td>\n",
       "      <td>46202.74</td>\n",
       "      <td>46293.28</td>\n",
       "      <td>1684.87</td>\n",
       "      <td>78306812.84</td>\n",
       "      <td>46516.55</td>\n",
       "      <td>direct</td>\n",
       "      <td></td>\n",
       "    </tr>\n",
       "  </tbody>\n",
       "</table>\n",
       "</div>"
      ],
      "text/plain": [
       "         time      high       low      open  volumefrom     volumeto  \\\n",
       "0  1628676000  46387.36  45934.10  46116.65     1573.37  72581692.88   \n",
       "1  1628679600  46255.74  45884.15  46083.67     1352.98  62344877.74   \n",
       "2  1628683200  46146.13  45859.97  45946.07     1165.86  53609205.63   \n",
       "3  1628686800  46503.80  45931.56  45995.30     1618.98  74938484.77   \n",
       "4  1628690400  46676.14  46202.74  46293.28     1684.87  78306812.84   \n",
       "\n",
       "      close conversionType conversionSymbol  \n",
       "0  46083.67         direct                   \n",
       "1  45946.07         direct                   \n",
       "2  45995.30         direct                   \n",
       "3  46293.28         direct                   \n",
       "4  46516.55         direct                   "
      ]
     },
     "execution_count": 23,
     "metadata": {},
     "output_type": "execute_result"
    }
   ],
   "source": [
    "df = pd.DataFrame(data['Data']['Data'])\n",
    "df.head()\n"
   ]
  }
 ],
 "metadata": {
  "kernelspec": {
   "display_name": "Python 3",
   "language": "python",
   "name": "python3"
  },
  "language_info": {
   "codemirror_mode": {
    "name": "ipython",
    "version": 3
   },
   "file_extension": ".py",
   "mimetype": "text/x-python",
   "name": "python",
   "nbconvert_exporter": "python",
   "pygments_lexer": "ipython3",
   "version": "3.6.10"
  },
  "latex_envs": {
   "LaTeX_envs_menu_present": true,
   "autoclose": false,
   "autocomplete": true,
   "bibliofile": "biblio.bib",
   "cite_by": "apalike",
   "current_citInitial": 1,
   "eqLabelWithNumbers": true,
   "eqNumInitial": 1,
   "hotkeys": {
    "equation": "Ctrl-E",
    "itemize": "Ctrl-I"
   },
   "labels_anchors": false,
   "latex_user_defs": false,
   "report_style_numbering": false,
   "user_envs_cfg": false
  }
 },
 "nbformat": 4,
 "nbformat_minor": 4
}
