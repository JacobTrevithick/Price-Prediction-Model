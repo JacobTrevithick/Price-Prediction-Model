{
 "cells": [
  {
   "cell_type": "code",
   "execution_count": 14,
   "metadata": {},
   "outputs": [],
   "source": [
    "import math\n",
    "import matplotlib.pyplot as plt\n",
    "import tensorflow as tf\n",
    "import pandas as pd\n",
    "import numpy as np\n",
    "from tensorflow import keras\n",
    "from tensorflow.keras.models import Sequential\n",
    "from tensorflow.keras.layers import Dense\n",
    "from tensorflow.keras.layers import LSTM\n",
    "from tensorflow.keras.layers import Dropout\n",
    "from tensorflow.keras.layers import *\n",
    "from sklearn.preprocessing import MinMaxScaler, StandardScaler\n",
    "from sklearn.metrics import mean_squared_error\n",
    "from sklearn.metrics import mean_absolute_error\n",
    "from sklearn.model_selection import train_test_split\n",
    "from tensorflow.keras.callbacks import EarlyStopping"
   ]
  },
  {
   "cell_type": "code",
   "execution_count": 4,
   "metadata": {},
   "outputs": [
    {
     "name": "stdout",
     "output_type": "stream",
     "text": [
      "Number of rows and columns: (2949, 10)\n"
     ]
    },
    {
     "data": {
      "text/html": [
       "<div>\n",
       "<style scoped>\n",
       "    .dataframe tbody tr th:only-of-type {\n",
       "        vertical-align: middle;\n",
       "    }\n",
       "\n",
       "    .dataframe tbody tr th {\n",
       "        vertical-align: top;\n",
       "    }\n",
       "\n",
       "    .dataframe thead th {\n",
       "        text-align: right;\n",
       "    }\n",
       "</style>\n",
       "<table border=\"1\" class=\"dataframe\">\n",
       "  <thead>\n",
       "    <tr style=\"text-align: right;\">\n",
       "      <th></th>\n",
       "      <th>time</th>\n",
       "      <th>high</th>\n",
       "      <th>low</th>\n",
       "      <th>open</th>\n",
       "      <th>volumefrom</th>\n",
       "      <th>volumeto</th>\n",
       "      <th>close</th>\n",
       "      <th>conversionType</th>\n",
       "      <th>Datetime</th>\n",
       "      <th>Year</th>\n",
       "    </tr>\n",
       "  </thead>\n",
       "  <tbody>\n",
       "    <tr>\n",
       "      <th>0</th>\n",
       "      <td>1388620800</td>\n",
       "      <td>886.21</td>\n",
       "      <td>810.47</td>\n",
       "      <td>815.94</td>\n",
       "      <td>12811.63</td>\n",
       "      <td>10826907.96</td>\n",
       "      <td>856.91</td>\n",
       "      <td>direct</td>\n",
       "      <td>2014-01-02</td>\n",
       "      <td>2014</td>\n",
       "    </tr>\n",
       "    <tr>\n",
       "      <th>1</th>\n",
       "      <td>1388707200</td>\n",
       "      <td>888.23</td>\n",
       "      <td>839.44</td>\n",
       "      <td>856.91</td>\n",
       "      <td>9709.01</td>\n",
       "      <td>8409629.11</td>\n",
       "      <td>884.26</td>\n",
       "      <td>direct</td>\n",
       "      <td>2014-01-03</td>\n",
       "      <td>2014</td>\n",
       "    </tr>\n",
       "    <tr>\n",
       "      <th>2</th>\n",
       "      <td>1388793600</td>\n",
       "      <td>932.16</td>\n",
       "      <td>848.32</td>\n",
       "      <td>884.26</td>\n",
       "      <td>14239.01</td>\n",
       "      <td>12784626.88</td>\n",
       "      <td>924.69</td>\n",
       "      <td>direct</td>\n",
       "      <td>2014-01-04</td>\n",
       "      <td>2014</td>\n",
       "    </tr>\n",
       "    <tr>\n",
       "      <th>3</th>\n",
       "      <td>1388880000</td>\n",
       "      <td>1029.86</td>\n",
       "      <td>911.36</td>\n",
       "      <td>924.69</td>\n",
       "      <td>21374.20</td>\n",
       "      <td>20789364.52</td>\n",
       "      <td>1014.74</td>\n",
       "      <td>direct</td>\n",
       "      <td>2014-01-05</td>\n",
       "      <td>2014</td>\n",
       "    </tr>\n",
       "    <tr>\n",
       "      <th>4</th>\n",
       "      <td>1388966400</td>\n",
       "      <td>1093.44</td>\n",
       "      <td>964.74</td>\n",
       "      <td>1014.74</td>\n",
       "      <td>23076.53</td>\n",
       "      <td>23622237.65</td>\n",
       "      <td>1012.65</td>\n",
       "      <td>direct</td>\n",
       "      <td>2014-01-06</td>\n",
       "      <td>2014</td>\n",
       "    </tr>\n",
       "  </tbody>\n",
       "</table>\n",
       "</div>"
      ],
      "text/plain": [
       "         time     high     low     open  volumefrom     volumeto    close  \\\n",
       "0  1388620800   886.21  810.47   815.94    12811.63  10826907.96   856.91   \n",
       "1  1388707200   888.23  839.44   856.91     9709.01   8409629.11   884.26   \n",
       "2  1388793600   932.16  848.32   884.26    14239.01  12784626.88   924.69   \n",
       "3  1388880000  1029.86  911.36   924.69    21374.20  20789364.52  1014.74   \n",
       "4  1388966400  1093.44  964.74  1014.74    23076.53  23622237.65  1012.65   \n",
       "\n",
       "  conversionType    Datetime  Year  \n",
       "0         direct  2014-01-02  2014  \n",
       "1         direct  2014-01-03  2014  \n",
       "2         direct  2014-01-04  2014  \n",
       "3         direct  2014-01-05  2014  \n",
       "4         direct  2014-01-06  2014  "
      ]
     },
     "execution_count": 4,
     "metadata": {},
     "output_type": "execute_result"
    }
   ],
   "source": [
    "df=pd.read_csv(\"Cryto_daily.csv\")\n",
    "print(\"Number of rows and columns:\", df.shape)\n",
    "df.head()"
   ]
  },
  {
   "cell_type": "code",
   "execution_count": 5,
   "metadata": {},
   "outputs": [],
   "source": [
    "training_set = df[df['Year'] < 2021].iloc[:, 6:7].values\n",
    "test_set = df[df['Year'] >= 2021].iloc[:, 6:7].values\n"
   ]
  },
  {
   "cell_type": "code",
   "execution_count": 6,
   "metadata": {},
   "outputs": [],
   "source": [
    "# Feature Scaling\n",
    "sc = MinMaxScaler(feature_range = (0, 1))\n",
    "training_set_scaled = sc.fit_transform(training_set)\n",
    "\n",
    "# Creating a data structure with 60 time-steps and 1 output\n",
    "X_train = []\n",
    "y_train = []\n",
    "\n",
    "for i in range(60, 2556):\n",
    "\n",
    "    X_train.append(training_set_scaled[i-60:i, 0])\n",
    "    y_train.append(training_set_scaled[i, 0])\n",
    "\n",
    "X_train, y_train = np.array(X_train), np.array(y_train)\n",
    "\n",
    "X_train = np.reshape(X_train, (X_train.shape[0], X_train.shape[1], 1))"
   ]
  },
  {
   "cell_type": "code",
   "execution_count": 7,
   "metadata": {},
   "outputs": [
    {
     "name": "stdout",
     "output_type": "stream",
     "text": [
      "(393, 60, 1)\n"
     ]
    }
   ],
   "source": [
    "# Getting the predicted stock price of 2017\n",
    "dataset_train = df.iloc[:2556, 1:2]\n",
    "dataset_test = df.iloc[2556:, 1:2]\n",
    "\n",
    "dataset_total = pd.concat((dataset_train, dataset_test), axis = 0)\n",
    "dummy = dataset_total[len(dataset_total) - len(dataset_test) - 60:].values\n",
    "\n",
    "inputs = dummy.reshape(-1,1)\n",
    "inputs_transformed = sc.transform(inputs)\n",
    "\n",
    "X_test = []\n",
    "\n",
    "for i in range(60, 453):\n",
    "    X_test.append(inputs_transformed[i-60:i, 0])\n",
    "    \n",
    "X_test = np.array(X_test)\n",
    "X_test = np.reshape(X_test, (X_test.shape[0], X_test.shape[1], 1))\n",
    "print(X_test.shape)"
   ]
  },
  {
   "cell_type": "code",
   "execution_count": null,
   "metadata": {},
   "outputs": [],
   "source": []
  },
  {
   "cell_type": "code",
   "execution_count": 16,
   "metadata": {},
   "outputs": [],
   "source": [
    "model_loaded = tf.keras.models.load_model('Model_Testing/Crypto_Models/Trained_model_2_daily_BTC_4L_50N_0p1D_trainUpTo2021.h5', compile = False)"
   ]
  },
  {
   "cell_type": "code",
   "execution_count": 17,
   "metadata": {},
   "outputs": [],
   "source": [
    "predicted_stock_price = model_loaded.predict(X_test)\n",
    "predicted_stock_price = sc.inverse_transform(predicted_stock_price)"
   ]
  },
  {
   "cell_type": "code",
   "execution_count": 30,
   "metadata": {},
   "outputs": [],
   "source": [
    "from flask import jsonify\n",
    "import json\n",
    "\n",
    "list_pred = list(predicted_stock_price[:,0])\n",
    "\n",
    "pred_dict = {\n",
    "    'predictions': [float(x) for x in list_pred]\n",
    "}\n",
    "\n",
    "with open('Crypto_2021_Predictions.json', 'w') as fp:\n",
    "    json.dump(pred_dict, fp,  indent=4)\n",
    "    \n"
   ]
  },
  {
   "cell_type": "code",
   "execution_count": null,
   "metadata": {},
   "outputs": [],
   "source": [
    "# close_data = close_data.reshape((-1))\n",
    "\n",
    "# def predict(num_prediction, model):\n",
    "#     prediction_list = close_data[-look_back:]\n",
    "    \n",
    "#     for _ in range(num_prediction):\n",
    "#         x = prediction_list[-look_back:]\n",
    "#         x = x.reshape((1, look_back, 1))\n",
    "#         out = model.predict(x)[0][0]\n",
    "#         prediction_list = np.append(prediction_list, out)\n",
    "#     prediction_list = prediction_list[look_back-1:]\n",
    "        \n",
    "#     return prediction_list\n",
    "    \n",
    "# def predict_dates(num_prediction):\n",
    "#     last_date = df['Date'].values[-1]\n",
    "#     prediction_dates = pd.date_range(last_date, periods=num_prediction+1).tolist()\n",
    "#     return prediction_dates\n",
    "\n",
    "# num_prediction = 30\n",
    "# forecast = predict(num_prediction, model)\n",
    "# forecast_dates = predict_dates(num_prediction)\n",
    "# view raw"
   ]
  }
 ],
 "metadata": {
  "interpreter": {
   "hash": "6ffeae461081b98ae86352a0851f1155f0b2a8eafa30374dc3cd8f018d3c1071"
  },
  "kernelspec": {
   "display_name": "Python 3.6.10 64-bit ('PythonData': conda)",
   "language": "python",
   "name": "python3"
  },
  "language_info": {
   "codemirror_mode": {
    "name": "ipython",
    "version": 3
   },
   "file_extension": ".py",
   "mimetype": "text/x-python",
   "name": "python",
   "nbconvert_exporter": "python",
   "pygments_lexer": "ipython3",
   "version": "3.6.10"
  },
  "orig_nbformat": 4
 },
 "nbformat": 4,
 "nbformat_minor": 2
}
